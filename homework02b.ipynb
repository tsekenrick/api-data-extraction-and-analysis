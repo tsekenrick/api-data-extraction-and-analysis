{
 "cells": [
  {
   "cell_type": "markdown",
   "metadata": {},
   "source": [
    "# Doing it All without pandas\n",
    "\n",
    "As it turns out, the API that I selected returns data from requests in a somewhat conventional way. That is, instead of giving back a long string formatted as something like a csv or json, it gives back a list of dictionaries. \n",
    "\n",
    "This happened to work out well when I was able to use `pandas`, but without it, the easiest approach would probably be to index into the dictionaries and "
   ]
  }
 ],
 "metadata": {
  "kernelspec": {
   "display_name": "Python 3",
   "language": "python",
   "name": "python3"
  },
  "language_info": {
   "codemirror_mode": {
    "name": "ipython",
    "version": 3
   },
   "file_extension": ".py",
   "mimetype": "text/x-python",
   "name": "python",
   "nbconvert_exporter": "python",
   "pygments_lexer": "ipython3",
   "version": "3.6.5"
  }
 },
 "nbformat": 4,
 "nbformat_minor": 2
}
