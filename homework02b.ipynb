{
 "cells": [
  {
   "cell_type": "markdown",
   "metadata": {},
   "source": [
    "# Doing it All Without pandas\n",
    "\n",
    "As it turns out, the API that I selected returns data from requests in a somewhat conventional way. That is, instead of giving back a long string formatted as something like a csv or json, it gives back a list of dictionaries. \n",
    "\n",
    "This happened to work out well when I was able to use `pandas`, but without it, the easiest approach would probably be to index into the dictionaries and extract the data manually into lists."
   ]
  },
  {
   "cell_type": "code",
   "execution_count": 1,
   "metadata": {},
   "outputs": [
    {
     "name": "stdout",
     "output_type": "stream",
     "text": [
      "games/?fields=name,esrb.rating,total_rating&filter[platforms][eq]=48&filter[category][eq]=0&order=name:desc&limit=50&scroll=1\n"
     ]
    }
   ],
   "source": [
    "#all this is just 1:1 for what I did the first time so far\n",
    "from igdb_api_python.igdb import igdb\n",
    "import requests\n",
    "\n",
    "# igdb represents a requests object, as created by the IGDB API wrapper\n",
    "api_key = \"750c9d13c29e3ee77695e1cfebae2c62\"\n",
    "igdb = igdb(api_key)\n",
    "\n",
    "result = igdb.games({\n",
    "    'filters':{\n",
    "        \"[platforms][eq]\":48,\n",
    "        \"[category][eq]\":0\n",
    "    },\n",
    "    'fields': ['name','esrb.rating','total_rating'],\n",
    "    'scroll': 1,\n",
    "    'limit': 50,\n",
    "    'order': 'name:desc'\n",
    "})"
   ]
  },
  {
   "cell_type": "code",
   "execution_count": 12,
   "metadata": {},
   "outputs": [
    {
     "name": "stdout",
     "output_type": "stream",
     "text": [
      "2635\n"
     ]
    }
   ],
   "source": [
    "print(result.headers['X-Count']) #2635 entries"
   ]
  },
  {
   "cell_type": "code",
   "execution_count": 13,
   "metadata": {},
   "outputs": [],
   "source": [
    "res_body = result.body"
   ]
  },
  {
   "cell_type": "code",
   "execution_count": 16,
   "metadata": {},
   "outputs": [],
   "source": [
    "#res_body becomes the result.body of all 2635 entries\n",
    "for i in range(int(2635/50) + 1):\n",
    "    res_body += igdb.scroll(result).body"
   ]
  },
  {
   "cell_type": "code",
   "execution_count": 25,
   "metadata": {},
   "outputs": [
    {
     "name": "stdout",
     "output_type": "stream",
     "text": [
      "[{'id': 81958, 'name': '永遠消失的幻想鄉 ～ The Disappearing of Gensokyo', 'total_rating': 80.0}, {'id': 20744, 'name': 'Ōkami HD', 'total_rating': 86.62726547927755, 'esrb': {'rating': 5}}, {'id': 23636, 'name': 'theHunter', 'total_rating': 40.0}, {'id': 6465, 'name': 'iO', 'total_rating': 66.5}, {'id': 27277, 'name': 'forma.8', 'total_rating': 77.94368919630995, 'esrb': {'rating': 4}}, {'id': 1353, 'name': 'flOw', 'total_rating': 74.6961664457953, 'esrb': {'rating': 3}}, {'id': 19008, 'name': 'ecotone', 'total_rating': 72.5}, {'id': 95399, 'name': 'duplicate Zanki Zero: Last Beginning'}, {'id': 52737, 'name': 'duplicate Rocksmith 2014 Edition', 'total_rating': 90.0}, {'id': 55162, 'name': 'duplicate Pillars of the Earth', 'total_rating': 72.375}, {'id': 42938, 'name': \"duplicate Peanuts Movie: Snoopy's Grand Adventure\", 'total_rating': 75.0}, {'id': 42928, 'name': \"duplicate JoJo's Bizarre Adventure: Eyes of Heaven - Duplicate\"}, {'id': 102112, 'name': 'duplicate Farming Simulator 2019'}, {'id': 4796, 'name': 'de Blob 2', 'total_rating': 74.1931866884555, 'esrb': {'rating': 4}}, {'id': 2637, 'name': 'de Blob', 'total_rating': 76.0, 'esrb': {'rating': 3}}, {'id': 23486, 'name': 'Zotrix', 'total_rating': 42.0, 'esrb': {'rating': 3}}, {'id': 1473, 'name': 'Zone of the Enders: The 2nd Runner', 'total_rating': 70.64541860726041, 'esrb': {'rating': 6}}, {'id': 68284, 'name': 'Zone Of The Enders: The 2nd Runner M∀RS', 'esrb': {'rating': 5}}, {'id': 14298, 'name': 'Zombie Vikings', 'total_rating': 61.44318946537615, 'esrb': {'rating': 5}}, {'id': 20871, 'name': 'Zombie Army Trilogy', 'total_rating': 80.625, 'esrb': {'rating': 6}}, {'id': 11491, 'name': 'Zombi', 'total_rating': 63.8596268928876, 'esrb': {'rating': 6}}, {'id': 16815, 'name': 'Zombeer', 'total_rating': 46.25, 'esrb': {'rating': 6}}, {'id': 11646, 'name': 'Ziggurat', 'total_rating': 75.54157938097481, 'esrb': {'rating': 5}}, {'id': 11549, 'name': 'Zero Escape: Zero Time Dilemma', 'total_rating': 79.27423886822271, 'esrb': {'rating': 6}}, {'id': 24439, 'name': 'Zenith', 'total_rating': 55.0, 'esrb': {'rating': 6}}, {'id': 6008, 'name': 'Zen Pinball 2', 'total_rating': 73.5, 'esrb': {'rating': 4}}, {'id': 74746, 'name': 'Zeal'}, {'id': 28245, 'name': 'Zanki Zero: Last Beginning'}, {'id': 104818, 'name': 'Yuuna and the Haunted Hot Springs: Steam Dungeon'}, {'id': 109602, 'name': 'Yumeutsutsu Re:Master'}, {'id': 20043, 'name': 'Yu-Gi-Oh! Legacy of the Duelist', 'total_rating': 80.00791870159205, 'esrb': {'rating': 4}}, {'id': 27304, 'name': 'Ys VIII: Lacrimosa of Dana', 'total_rating': 87.52472976801769, 'esrb': {'rating': 5}}, {'id': 10949, 'name': 'Ys Origin', 'total_rating': 83.67524064465354, 'esrb': {'rating': 5}}, {'id': 22085, 'name': \"Yorbie - Episode 1: Payback's A Bolt\", 'total_rating': 37.0}, {'id': 60468, 'name': 'Yorbie', 'esrb': {'rating': 4}}, {'id': 10031, 'name': 'Yooka-Laylee', 'total_rating': 69.3782297914947, 'esrb': {'rating': 4}}, {'id': 27732, 'name': 'Yonder: The Cloud Catcher Chronicles', 'total_rating': 74.08694310468721, 'esrb': {'rating': 3}}, {'id': 28289, 'name': 'Yomawari: Midnight Shadows', 'total_rating': 76.5}, {'id': 27367, 'name': \"Yoku's Island Express\", 'total_rating': 82.53228311904}, {'id': 100556, 'name': 'Yoiyami Dancers: Twilight Barrage Dancers'}, {'id': 11545, 'name': 'Yesterday Origins', 'total_rating': 78.8, 'esrb': {'rating': 6}}, {'id': 21861, 'name': 'Yasai Ninja', 'total_rating': 35.0}, {'id': 33194, 'name': 'YamaYama'}, {'id': 12595, 'name': 'Yakuza: Kiwami', 'total_rating': 81.25560058627951, 'esrb': {'rating': 6}}, {'id': 99228, 'name': 'Yakuza Kiwami 2: Steelbook Edition'}, {'id': 55090, 'name': 'Yakuza Kiwami 2', 'total_rating': 85.6, 'esrb': {'rating': 6}}, {'id': 97250, 'name': 'Yakuza 6: The Song of Life - Launch Edition'}, {'id': 97249, 'name': 'Yakuza 6: The Song of Life - Essence of Art Edition'}, {'id': 97248, 'name': 'Yakuza 6: The Song of Life - Digital Deluxe'}, {'id': 97247, 'name': 'Yakuza 6: The Song of Life - After Hours Premium Edition'}]\n",
      "['Err', 'Err', 'Err', 'Err', 'Err', 'Err', 'Err', 'Err', 'Err', 'Err', 'Err', 'Err', 'Err', 'Err', 'Err', 'Err', 'Err', 'Err', 'Err', 'Err', 'Err', 'Err', 'Err', 'Err', 'Err', 'Err', 'Err', 'Err', 'Err', 'Err', 'Err', 'Err', 'Err', 'Err', 'Err', 'Err', 'Err', 'Err', 'Err', 'Err', 'Err', 'Err', 'Err', 'Err', 'Err', 'Err', 'Err', 'Err', 'Err', 'Err']\n"
     ]
    }
   ],
   "source": [
    "print(res_body[:50])\n",
    "print(res_body[-50:])"
   ]
  },
  {
   "cell_type": "code",
   "execution_count": 26,
   "metadata": {},
   "outputs": [],
   "source": [
    "# Let's just get rid of those trailing errors real quick.\n",
    "\n",
    "while(res_body[-1] == 'Err'):\n",
    "    res_body.pop()"
   ]
  },
  {
   "cell_type": "code",
   "execution_count": 30,
   "metadata": {},
   "outputs": [
    {
     "data": {
      "text/plain": [
       "[{'id': 90654,\n",
       "  'name': '303 Squadron: Battle of Britain',\n",
       "  'total_rating': 50.0,\n",
       "  'esrb': {'rating': 4}},\n",
       " {'id': 86657, 'name': '3 Minutes to Midnight', 'esrb': {'rating': 4}},\n",
       " {'id': 26847,\n",
       "  'name': '2Dark',\n",
       "  'total_rating': 53.6256830601093,\n",
       "  'esrb': {'rating': 6}},\n",
       " {'id': 17828,\n",
       "  'name': '20XX',\n",
       "  'total_rating': 77.66666666666666,\n",
       "  'esrb': {'rating': 4}},\n",
       " {'id': 100562, 'name': '198X'},\n",
       " {'id': 14360,\n",
       "  'name': '1979 Revolution: Black Friday',\n",
       "  'total_rating': 62.16666666666665,\n",
       "  'esrb': {'rating': 6}},\n",
       " {'id': 9497, 'name': '140', 'total_rating': 71.1780377154587},\n",
       " {'id': 28337, 'name': '13 Sentinels: Aegis Rim'},\n",
       " {'id': 103249, 'name': '11-11: MEMORIES RETOLD'},\n",
       " {'id': 16745, 'name': '101 Ways to Die', 'total_rating': 65.0},\n",
       " {'id': 23168,\n",
       "  'name': '100ft Robot Golf',\n",
       "  'total_rating': 59.0,\n",
       "  'esrb': {'rating': 4}},\n",
       " {'id': 8617,\n",
       "  'name': '1001 Spikes',\n",
       "  'total_rating': 83.5,\n",
       "  'esrb': {'rating': 5}},\n",
       " {'id': 18686,\n",
       "  'name': '10 Second Ninja X',\n",
       "  'total_rating': 73.66666666666666,\n",
       "  'esrb': {'rating': 5}},\n",
       " {'id': 51541, 'name': \"'90s Super GP\"},\n",
       " {'id': 26369,\n",
       "  'name': '#KILLALLZOMBIES',\n",
       "  'total_rating': 67.5,\n",
       "  'esrb': {'rating': 5}}]"
      ]
     },
     "execution_count": 30,
     "metadata": {},
     "output_type": "execute_result"
    }
   ],
   "source": [
    "res_body[-15:] #Much better."
   ]
  },
  {
   "cell_type": "code",
   "execution_count": 32,
   "metadata": {},
   "outputs": [
    {
     "data": {
      "text/plain": [
       "2635"
      ]
     },
     "execution_count": 32,
     "metadata": {},
     "output_type": "execute_result"
    }
   ],
   "source": [
    "len(res_body) #Entry count now matches what X-Count stated above"
   ]
  },
  {
   "cell_type": "markdown",
   "metadata": {},
   "source": [
    "# Cleaning Data\n",
    "\n",
    "My process for cleaning the data is to essentially iterate over the list of dicts represented by `res_body`, and add them to new lists that include only entries of a certain ESRB rating. After that, I sum up the `'total-rating'` field for each list and divide by the number of entries which had such a field to get the mean."
   ]
  },
  {
   "cell_type": "code",
   "execution_count": 51,
   "metadata": {},
   "outputs": [],
   "source": [
    "rp_list = []\n",
    "\n",
    "for entry in res_body:\n",
    "    try:\n",
    "        if entry['esrb']['rating'] == 1:\n",
    "            rp_list.append(entry.copy())\n",
    "    except:\n",
    "        continue"
   ]
  },
  {
   "cell_type": "code",
   "execution_count": 65,
   "metadata": {},
   "outputs": [
    {
     "data": {
      "text/plain": [
       "36"
      ]
     },
     "execution_count": 65,
     "metadata": {},
     "output_type": "execute_result"
    }
   ],
   "source": [
    "len(rp_list)"
   ]
  },
  {
   "cell_type": "code",
   "execution_count": 68,
   "metadata": {},
   "outputs": [],
   "source": [
    "ec_list = []\n",
    "\n",
    "for entry in res_body:\n",
    "    try:\n",
    "        if entry['esrb']['rating'] == 2:\n",
    "            ec_list.append(entry.copy())\n",
    "    except:\n",
    "        continue"
   ]
  },
  {
   "cell_type": "code",
   "execution_count": 69,
   "metadata": {},
   "outputs": [
    {
     "data": {
      "text/plain": [
       "0"
      ]
     },
     "execution_count": 69,
     "metadata": {},
     "output_type": "execute_result"
    }
   ],
   "source": [
    "len(ec_list)"
   ]
  },
  {
   "cell_type": "code",
   "execution_count": 86,
   "metadata": {},
   "outputs": [],
   "source": [
    "e_list = []\n",
    "\n",
    "for i, entry in enumerate(res_body):\n",
    "    try:\n",
    "        if entry['esrb']['rating'] == 3:\n",
    "            e_list.append(entry.copy())\n",
    "    except KeyError:\n",
    "        continue"
   ]
  },
  {
   "cell_type": "raw",
   "metadata": {},
   "source": [
    "len(e_list)"
   ]
  },
  {
   "cell_type": "code",
   "execution_count": 63,
   "metadata": {},
   "outputs": [],
   "source": [
    "e10_list = []\n",
    "\n",
    "for entry in res_body:\n",
    "    try:\n",
    "        if entry['esrb']['rating'] == 4:\n",
    "            e10_list.append(entry.copy())\n",
    "    except:\n",
    "        continue"
   ]
  },
  {
   "cell_type": "code",
   "execution_count": 64,
   "metadata": {},
   "outputs": [
    {
     "data": {
      "text/plain": [
       "308"
      ]
     },
     "execution_count": 64,
     "metadata": {},
     "output_type": "execute_result"
    }
   ],
   "source": [
    "len(e10_list)"
   ]
  },
  {
   "cell_type": "code",
   "execution_count": 66,
   "metadata": {},
   "outputs": [],
   "source": [
    "t_list = []\n",
    "\n",
    "for entry in res_body:\n",
    "    try:\n",
    "        if entry['esrb']['rating'] == 5:\n",
    "            t_list.append(entry.copy())\n",
    "    except:\n",
    "        continue"
   ]
  },
  {
   "cell_type": "code",
   "execution_count": 67,
   "metadata": {},
   "outputs": [
    {
     "data": {
      "text/plain": [
       "461"
      ]
     },
     "execution_count": 67,
     "metadata": {},
     "output_type": "execute_result"
    }
   ],
   "source": [
    "len(t_list)"
   ]
  },
  {
   "cell_type": "code",
   "execution_count": 60,
   "metadata": {},
   "outputs": [],
   "source": [
    "m_list = []\n",
    "\n",
    "for entry in res_body:\n",
    "    try:\n",
    "        if entry['esrb']['rating'] == 6:\n",
    "            m_list.append(entry.copy())\n",
    "    except:\n",
    "        continue"
   ]
  },
  {
   "cell_type": "code",
   "execution_count": 61,
   "metadata": {},
   "outputs": [
    {
     "data": {
      "text/plain": [
       "304"
      ]
     },
     "execution_count": 61,
     "metadata": {},
     "output_type": "execute_result"
    }
   ],
   "source": [
    "len(m_list)"
   ]
  },
  {
   "cell_type": "code",
   "execution_count": 70,
   "metadata": {},
   "outputs": [],
   "source": [
    "ao_list = []\n",
    "\n",
    "for entry in res_body:\n",
    "    try:\n",
    "        if entry['esrb']['rating'] == 7:\n",
    "            ao_list.append(entry.copy())\n",
    "    except:\n",
    "        continue"
   ]
  },
  {
   "cell_type": "code",
   "execution_count": 71,
   "metadata": {},
   "outputs": [
    {
     "data": {
      "text/plain": [
       "1"
      ]
     },
     "execution_count": 71,
     "metadata": {},
     "output_type": "execute_result"
    }
   ],
   "source": [
    "len(ao_list)"
   ]
  },
  {
   "cell_type": "code",
   "execution_count": 116,
   "metadata": {},
   "outputs": [],
   "source": [
    "rp_sum = 0\n",
    "rp_valid = 0\n",
    "for entry in rp_list:\n",
    "    try:\n",
    "        rp_sum += entry['total_rating']\n",
    "        rp_valid += 1\n",
    "    except:\n",
    "        continue"
   ]
  },
  {
   "cell_type": "code",
   "execution_count": 117,
   "metadata": {},
   "outputs": [
    {
     "name": "stdout",
     "output_type": "stream",
     "text": [
      "21\n",
      "70.0681156481416\n"
     ]
    }
   ],
   "source": [
    "rp_mean = rp_sum/rp_valid\n",
    "print(rp_valid)\n",
    "print(rp_mean)"
   ]
  },
  {
   "cell_type": "code",
   "execution_count": 94,
   "metadata": {},
   "outputs": [],
   "source": [
    "# no need to calculate for EC, since we know there are none"
   ]
  },
  {
   "cell_type": "code",
   "execution_count": 101,
   "metadata": {},
   "outputs": [],
   "source": [
    "e_sum = 0\n",
    "e_valid = 0\n",
    "for entry in e_list:\n",
    "    try:\n",
    "        e_sum += entry['total_rating']\n",
    "        e10_valid += 1\n",
    "    except:\n",
    "        continue"
   ]
  },
  {
   "cell_type": "code",
   "execution_count": 102,
   "metadata": {},
   "outputs": [
    {
     "ename": "ZeroDivisionError",
     "evalue": "float division by zero",
     "output_type": "error",
     "traceback": [
      "\u001b[1;31m---------------------------------------------------------------------------\u001b[0m",
      "\u001b[1;31mZeroDivisionError\u001b[0m                         Traceback (most recent call last)",
      "\u001b[1;32m<ipython-input-102-df77e5160cc3>\u001b[0m in \u001b[0;36m<module>\u001b[1;34m()\u001b[0m\n\u001b[1;32m----> 1\u001b[1;33m \u001b[0me_mean\u001b[0m \u001b[1;33m=\u001b[0m \u001b[0me_sum\u001b[0m\u001b[1;33m/\u001b[0m\u001b[0me_valid\u001b[0m\u001b[1;33m\u001b[0m\u001b[0m\n\u001b[0m",
      "\u001b[1;31mZeroDivisionError\u001b[0m: float division by zero"
     ]
    }
   ],
   "source": [
    "e_mean = e_sum/e_valid"
   ]
  },
  {
   "cell_type": "code",
   "execution_count": 103,
   "metadata": {},
   "outputs": [],
   "source": [
    "e10_sum = 0\n",
    "e10_valid = 0\n",
    "for entry in e10_list:\n",
    "    try:\n",
    "        e10_sum += entry['total_rating']\n",
    "        e10_valid += 1\n",
    "    except:\n",
    "        continue"
   ]
  },
  {
   "cell_type": "code",
   "execution_count": 114,
   "metadata": {},
   "outputs": [
    {
     "name": "stdout",
     "output_type": "stream",
     "text": [
      "277\n",
      "70.98240567552998\n"
     ]
    }
   ],
   "source": [
    "e10_mean = e10_sum/e10_valid\n",
    "print(e10_valid)\n",
    "print(e10_mean)"
   ]
  },
  {
   "cell_type": "code",
   "execution_count": 106,
   "metadata": {},
   "outputs": [],
   "source": [
    "t_sum = 0\n",
    "t_valid = 0\n",
    "for entry in t_list:\n",
    "    try:\n",
    "        t_sum += entry['total_rating']\n",
    "        t_valid += 1\n",
    "    except:\n",
    "        continue"
   ]
  },
  {
   "cell_type": "code",
   "execution_count": 118,
   "metadata": {},
   "outputs": [
    {
     "name": "stdout",
     "output_type": "stream",
     "text": [
      "431\n",
      "71.39028828818454\n"
     ]
    }
   ],
   "source": [
    "t_mean = t_sum/t_valid\n",
    "print(t_valid)\n",
    "print(t_mean)"
   ]
  },
  {
   "cell_type": "code",
   "execution_count": 109,
   "metadata": {},
   "outputs": [],
   "source": [
    "m_sum = 0\n",
    "m_valid = 0\n",
    "for entry in m_list:\n",
    "    try:\n",
    "        m_sum += entry['total_rating']\n",
    "        m_valid += 1\n",
    "    except:\n",
    "        continue"
   ]
  },
  {
   "cell_type": "code",
   "execution_count": 119,
   "metadata": {},
   "outputs": [
    {
     "name": "stdout",
     "output_type": "stream",
     "text": [
      "288\n",
      "74.14310489859653\n"
     ]
    }
   ],
   "source": [
    "m_mean = m_sum/m_valid\n",
    "print(m_valid)\n",
    "print(m_mean)"
   ]
  },
  {
   "cell_type": "code",
   "execution_count": 111,
   "metadata": {},
   "outputs": [],
   "source": [
    "ao_sum = 0\n",
    "ao_valid = 0\n",
    "for entry in ao_list:\n",
    "    try:\n",
    "        ao_sum += entry['total_rating']\n",
    "        ao_valid += 1\n",
    "    except:\n",
    "        continue"
   ]
  },
  {
   "cell_type": "code",
   "execution_count": 120,
   "metadata": {},
   "outputs": [
    {
     "name": "stdout",
     "output_type": "stream",
     "text": [
      "1\n",
      "84.3486983110335\n"
     ]
    }
   ],
   "source": [
    "ao_mean = ao_sum/ao_valid\n",
    "print(ao_valid)\n",
    "print(ao_mean)"
   ]
  },
  {
   "cell_type": "markdown",
   "metadata": {},
   "source": [
    "## Analysis\n",
    "\n",
    "As we can see, the means that we obtained in this fashion were mostly the same as those obtained using `pandas` in `homework02a.ipynb`. However, there was some slight variance in the total number of entries, but this didn't end up affecting the means. \n",
    "\n",
    "Also, for some bizarre reason, when I attempted to populate the list for the E rated games, the code cell seemed to stall. I attempted to debug this in several ways, but was unable to come up with a solution. But, given that all the other ratings returned identical results, it should be safe to conclude that this method is generally applicable.\n",
    "\n",
    "In this analysis, I also didn't calculate a standard deviation - admittedly, this is partially because my knowledge of statistics isn't particularly amazing, but also, the results from analyzing standard deviation weren't particularly interesting, and would just be tedious to do in this fashion."
   ]
  },
  {
   "cell_type": "code",
   "execution_count": null,
   "metadata": {},
   "outputs": [],
   "source": []
  }
 ],
 "metadata": {
  "kernelspec": {
   "display_name": "Python 3",
   "language": "python",
   "name": "python3"
  },
  "language_info": {
   "codemirror_mode": {
    "name": "ipython",
    "version": 3
   },
   "file_extension": ".py",
   "mimetype": "text/x-python",
   "name": "python",
   "nbconvert_exporter": "python",
   "pygments_lexer": "ipython3",
   "version": "3.6.5"
  }
 },
 "nbformat": 4,
 "nbformat_minor": 2
}
